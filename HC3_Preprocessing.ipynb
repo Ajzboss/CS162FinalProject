{
 "cells": [
  {
   "cell_type": "code",
   "execution_count": 2,
   "id": "350d4d6d",
   "metadata": {},
   "outputs": [
    {
     "name": "stderr",
     "output_type": "stream",
     "text": [
      "/Users/theo/Documents/UCLA S25/CS 162/Final Project/CS162FinalProject/venv/lib/python3.9/site-packages/tqdm/auto.py:21: TqdmWarning: IProgress not found. Please update jupyter and ipywidgets. See https://ipywidgets.readthedocs.io/en/stable/user_install.html\n",
      "  from .autonotebook import tqdm as notebook_tqdm\n",
      "[nltk_data] Downloading package punkt to /Users/theo/nltk_data...\n",
      "[nltk_data]   Unzipping tokenizers/punkt.zip.\n",
      "[nltk_data] Downloading package stopwords to /Users/theo/nltk_data...\n",
      "[nltk_data]   Package stopwords is already up-to-date!\n"
     ]
    },
    {
     "data": {
      "text/plain": [
       "True"
      ]
     },
     "execution_count": 2,
     "metadata": {},
     "output_type": "execute_result"
    }
   ],
   "source": [
    "import pandas as pd\n",
    "import string\n",
    "import nltk\n",
    "from datasets import load_dataset\n",
    "from nltk.corpus import stopwords\n",
    "from nltk.tokenize import word_tokenize\n",
    "\n",
    "nltk.download('punkt')\n",
    "nltk.download('stopwords')"
   ]
  },
  {
   "cell_type": "code",
   "execution_count": 3,
   "id": "c46ea5dc",
   "metadata": {},
   "outputs": [],
   "source": [
    "# Load dataset\n",
    "ds = load_dataset(\"Hello-SimpleAI/HC3\", \"all\")"
   ]
  },
  {
   "cell_type": "code",
   "execution_count": 4,
   "id": "b633dc4d",
   "metadata": {},
   "outputs": [],
   "source": [
    "# Flatten dataset into two columns: text and label\n",
    "data = []\n",
    "\n",
    "for item in ds[\"train\"]:\n",
    "    # Label 0 for human answers\n",
    "    for h_ans in item[\"human_answers\"]:\n",
    "        data.append({\n",
    "            \"text\": h_ans,\n",
    "            \"label\": 0\n",
    "        })\n",
    "\n",
    "    # Label 1 for AI (ChatGPT) answers\n",
    "    for ai_ans in item[\"chatgpt_answers\"]:\n",
    "        data.append({\n",
    "            \"text\": ai_ans,\n",
    "            \"label\": 1\n",
    "        })\n"
   ]
  },
  {
   "cell_type": "code",
   "execution_count": 8,
   "id": "7c3907b1",
   "metadata": {},
   "outputs": [],
   "source": [
    "df = pd.DataFrame(data)"
   ]
  },
  {
   "cell_type": "code",
   "execution_count": 9,
   "id": "99410c33",
   "metadata": {},
   "outputs": [
    {
     "name": "stdout",
     "output_type": "stream",
     "text": [
      "                                                text  label\n",
      "0  Basically there are many categories of \" Best ...      0\n",
      "1  If you 're hearing about it , it 's because it...      0\n",
      "2  One reason is lots of catagories . However , h...      0\n",
      "3  There are many different best seller lists tha...      1\n",
      "4  salt is good for not dying in car crashes and ...      0\n"
     ]
    }
   ],
   "source": [
    "# Remove newlines \n",
    "df['text'] = df['text'].str.replace('\\n', ' ', regex=True)\n",
    "print(df.head())"
   ]
  },
  {
   "cell_type": "code",
   "execution_count": 12,
   "id": "dfea09ce",
   "metadata": {},
   "outputs": [],
   "source": [
    "df.to_csv(\"Data/processed_HC3.csv\", index=False)"
   ]
  }
 ],
 "metadata": {
  "kernelspec": {
   "display_name": "venv",
   "language": "python",
   "name": "python3"
  },
  "language_info": {
   "codemirror_mode": {
    "name": "ipython",
    "version": 3
   },
   "file_extension": ".py",
   "mimetype": "text/x-python",
   "name": "python",
   "nbconvert_exporter": "python",
   "pygments_lexer": "ipython3",
   "version": "3.9.13"
  }
 },
 "nbformat": 4,
 "nbformat_minor": 5
}
