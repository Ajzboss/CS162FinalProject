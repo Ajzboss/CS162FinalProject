{
 "cells": [
  {
   "cell_type": "code",
   "execution_count": 21,
   "id": "f6b77cae",
   "metadata": {},
   "outputs": [],
   "source": [
    "from datasets import load_dataset, Dataset\n",
    "from transformers import T5Tokenizer, T5ForConditionalGeneration, Seq2SeqTrainer, Seq2SeqTrainingArguments, DataCollatorForSeq2Seq\n",
    "import numpy as np\n",
    "import pandas as pd\n",
    "import json\n",
    "import evaluate\n",
    "from sklearn.model_selection import train_test_split"
   ]
  },
  {
   "cell_type": "code",
   "execution_count": 22,
   "id": "f23264f0",
   "metadata": {},
   "outputs": [],
   "source": [
    "# 1. Load preprocessed CSV\n",
    "df = pd.read_csv(\"Data/processed_HC3.csv\")  \n",
    "\n",
    "df = df[df['text'].apply(lambda x: isinstance(x, str) and len(x.strip()) > 0)]\n",
    "\n",
    "df[\"text\"] = df[\"text\"].astype(str)\n",
    "df[\"label\"] = df[\"label\"].astype(str)\n",
    "\n",
    "# Ensure required columns exist\n",
    "assert \"text\" in df.columns and \"label\" in df.columns, \"CSV must have 'text' and 'label' columns\"\n",
    "\n",
    "df = df.sample(n=10000, random_state=42).reset_index(drop=True)\n",
    "\n",
    "\n",
    "# Convert to Hugging Face Dataset\n",
    "dataset = Dataset.from_pandas(df)"
   ]
  },
  {
   "cell_type": "code",
   "execution_count": 23,
   "id": "748abee3",
   "metadata": {},
   "outputs": [],
   "source": [
    "model_name = \"t5-small\"\n",
    "tokenizer = T5Tokenizer.from_pretrained(model_name)\n",
    "model = T5ForConditionalGeneration.from_pretrained(model_name)"
   ]
  },
  {
   "cell_type": "code",
   "execution_count": 24,
   "id": "e37d437e",
   "metadata": {},
   "outputs": [],
   "source": [
    "filenames = ['Data/arxiv_chatGPT.jsonl', 'Data/arxiv_cohere.jsonl','Data/reddit_chatGPT.jsonl','Data/reddit_cohere.jsonl']\n",
    "rows = []\n",
    "\n",
    "for file in filenames: \n",
    "     with open(file, \"r\", encoding=\"utf-8\") as file:\n",
    "        for line in file:\n",
    "            entry = json.loads(line)\n",
    "            if \"human_text\" in entry and \"machine_text\" in entry:\n",
    "                rows.append({\"text\": entry[\"human_text\"].strip(), \"label\": 0})\n",
    "                rows.append({\"text\": entry[\"machine_text\"].strip(), \"label\": 1})\n",
    "\n",
    "# Create DataFrame\n",
    "json_df = pd.DataFrame(rows)\n",
    "\n",
    "json_df = json_df[json_df['text'].apply(lambda x: isinstance(x, str) and len(x.strip()) > 0)]\n",
    "\n",
    "json_df[\"text\"] = json_df[\"text\"].astype(str)\n",
    "json_df[\"label\"] = json_df[\"label\"].astype(str)"
   ]
  },
  {
   "cell_type": "code",
   "execution_count": 57,
   "id": "22a6b229",
   "metadata": {},
   "outputs": [
    {
     "name": "stdout",
     "output_type": "stream",
     "text": [
      "label\n",
      "<class 'str'>    22220\n",
      "Name: count, dtype: int64\n"
     ]
    }
   ],
   "source": [
    "print(json_df[\"label\"].apply(type).value_counts())\n"
   ]
  },
  {
   "cell_type": "code",
   "execution_count": 25,
   "id": "4cb2d7ea",
   "metadata": {},
   "outputs": [],
   "source": [
    "train_df, eval_df = train_test_split(df, test_size=0.2, random_state=42)\n",
    "train_ds = Dataset.from_pandas(train_df)\n",
    "eval_ds = Dataset.from_pandas(json_df)"
   ]
  },
  {
   "cell_type": "code",
   "execution_count": 26,
   "id": "3e0904f6",
   "metadata": {},
   "outputs": [
    {
     "name": "stderr",
     "output_type": "stream",
     "text": [
      "Map: 100%|██████████| 8000/8000 [00:02<00:00, 2894.21 examples/s]\n",
      "Map: 100%|██████████| 22220/22220 [00:20<00:00, 1068.42 examples/s]\n"
     ]
    }
   ],
   "source": [
    "def tokenize_function(example):\n",
    "    model_input = tokenizer(\n",
    "        example[\"text\"],\n",
    "        truncation=True,\n",
    "        padding=\"max_length\",\n",
    "        max_length=512\n",
    "    )\n",
    "    labels = tokenizer(\n",
    "        example[\"label\"],\n",
    "        truncation=True,\n",
    "        padding=\"max_length\",\n",
    "        max_length=128\n",
    "    )[\"input_ids\"]\n",
    "\n",
    "    model_input[\"labels\"] = labels\n",
    "    return model_input\n",
    "\n",
    "tokenized_train = train_ds.map(tokenize_function, batched=True)\n",
    "tokenized_eval = eval_ds.map(tokenize_function, batched=True)\n",
    "\n",
    "tokenized_train.set_format(type=\"torch\", columns=[\"input_ids\", \"attention_mask\", \"labels\"])\n",
    "tokenized_eval.set_format(type=\"torch\", columns=[\"input_ids\", \"attention_mask\", \"labels\"])"
   ]
  },
  {
   "cell_type": "code",
   "execution_count": 37,
   "id": "d94310af",
   "metadata": {},
   "outputs": [],
   "source": [
    "from sklearn.metrics import accuracy_score, f1_score, precision_score, recall_score\n",
    "import numpy as np\n",
    "\n",
    "def compute_metrics(eval_pred):\n",
    "    predictions, labels = eval_pred\n",
    "\n",
    "    # If predictions is a tuple, take the first element\n",
    "    if isinstance(predictions, tuple):\n",
    "        predictions = predictions[0]\n",
    "\n",
    "    # Replace -100 with pad_token_id in labels\n",
    "    if isinstance(labels, np.ndarray):\n",
    "        labels = np.where(labels == -100, tokenizer.pad_token_id, labels)\n",
    "    else:\n",
    "        labels = [\n",
    "            [token if token != -100 else tokenizer.pad_token_id for token in label]\n",
    "            for label in labels\n",
    "        ]\n",
    "\n",
    "    # Same for predictions, if needed\n",
    "    if isinstance(predictions, np.ndarray):\n",
    "        predictions = np.where(predictions == -100, tokenizer.pad_token_id, predictions)\n",
    "    else:\n",
    "        predictions = [\n",
    "            [token if token != -100 else tokenizer.pad_token_id for token in pred]\n",
    "            for pred in predictions\n",
    "        ]\n",
    "\n",
    "    # Decode\n",
    "    decoded_preds = tokenizer.batch_decode(predictions, skip_special_tokens=True)\n",
    "    decoded_labels = tokenizer.batch_decode(labels, skip_special_tokens=True)\n",
    "\n",
    "    # Normalize\n",
    "    decoded_preds = [pred.strip().lower() for pred in decoded_preds]\n",
    "    decoded_labels = [label.strip().lower() for label in decoded_labels]\n",
    "\n",
    "    # Compute metrics\n",
    "    accuracy = accuracy_score(decoded_labels, decoded_preds)\n",
    "    f1 = f1_score(decoded_labels, decoded_preds, average='weighted')\n",
    "    precision = precision_score(decoded_labels, decoded_preds, average='weighted', zero_division=0)\n",
    "    recall = recall_score(decoded_labels, decoded_preds, average='weighted', zero_division=0)\n",
    "\n",
    "    return {\n",
    "        \"accuracy\": accuracy,\n",
    "        \"f1\": f1,\n",
    "        \"precision\": precision,\n",
    "        \"recall\": recall\n",
    "    }\n",
    "\n"
   ]
  },
  {
   "cell_type": "code",
   "execution_count": 38,
   "id": "e9080d0d",
   "metadata": {},
   "outputs": [],
   "source": [
    "training_args = Seq2SeqTrainingArguments(\n",
    "    output_dir=\"./results/t5-hc3\",\n",
    "    eval_strategy=\"epoch\",\n",
    "    learning_rate=2e-5,\n",
    "    per_device_train_batch_size=8,\n",
    "    per_device_eval_batch_size=8,\n",
    "    weight_decay=0.01,\n",
    "    save_total_limit=1,\n",
    "    num_train_epochs=2,\n",
    "    predict_with_generate=True,\n",
    "    fp16=False  \n",
    ")\n"
   ]
  },
  {
   "cell_type": "code",
   "execution_count": 39,
   "id": "e6a70b3a",
   "metadata": {},
   "outputs": [
    {
     "name": "stderr",
     "output_type": "stream",
     "text": [
      "/var/folders/w2/13ry7r055wgffl9fbmw7wbwh0000gp/T/ipykernel_996/4116613945.py:1: FutureWarning: `tokenizer` is deprecated and will be removed in version 5.0.0 for `Seq2SeqTrainer.__init__`. Use `processing_class` instead.\n",
      "  trainer = Seq2SeqTrainer(\n"
     ]
    }
   ],
   "source": [
    "trainer = Seq2SeqTrainer(\n",
    "    model=model,\n",
    "    args=training_args,\n",
    "    train_dataset=tokenized_train,\n",
    "    eval_dataset=tokenized_eval,\n",
    "    tokenizer=tokenizer,\n",
    "    data_collator=DataCollatorForSeq2Seq(tokenizer, model=model),\n",
    "    compute_metrics=compute_metrics\n",
    ")"
   ]
  },
  {
   "cell_type": "code",
   "execution_count": 40,
   "id": "bf473b9f",
   "metadata": {},
   "outputs": [
    {
     "name": "stderr",
     "output_type": "stream",
     "text": [
      "/Users/theo/Documents/UCLA S25/CS 162/Final Project/CS162FinalProject/venv/lib/python3.9/site-packages/torch/utils/data/dataloader.py:665: UserWarning: 'pin_memory' argument is set as true but no accelerator is found, then device pinned memory won't be used.\n",
      "  warnings.warn(warn_msg)\n"
     ]
    },
    {
     "data": {
      "text/html": [
       "\n",
       "    <div>\n",
       "      \n",
       "      <progress value='2000' max='2000' style='width:300px; height:20px; vertical-align: middle;'></progress>\n",
       "      [2000/2000 9:31:52, Epoch 2/2]\n",
       "    </div>\n",
       "    <table border=\"1\" class=\"dataframe\">\n",
       "  <thead>\n",
       " <tr style=\"text-align: left;\">\n",
       "      <th>Epoch</th>\n",
       "      <th>Training Loss</th>\n",
       "      <th>Validation Loss</th>\n",
       "      <th>Accuracy</th>\n",
       "      <th>F1</th>\n",
       "      <th>Precision</th>\n",
       "      <th>Recall</th>\n",
       "    </tr>\n",
       "  </thead>\n",
       "  <tbody>\n",
       "    <tr>\n",
       "      <td>1</td>\n",
       "      <td>0.019600</td>\n",
       "      <td>0.114761</td>\n",
       "      <td>0.195410</td>\n",
       "      <td>0.251745</td>\n",
       "      <td>0.410800</td>\n",
       "      <td>0.195410</td>\n",
       "    </tr>\n",
       "    <tr>\n",
       "      <td>2</td>\n",
       "      <td>0.006900</td>\n",
       "      <td>0.054153</td>\n",
       "      <td>0.325968</td>\n",
       "      <td>0.320406</td>\n",
       "      <td>0.435411</td>\n",
       "      <td>0.325968</td>\n",
       "    </tr>\n",
       "  </tbody>\n",
       "</table><p>"
      ],
      "text/plain": [
       "<IPython.core.display.HTML object>"
      ]
     },
     "metadata": {},
     "output_type": "display_data"
    },
    {
     "name": "stderr",
     "output_type": "stream",
     "text": [
      "/Users/theo/Documents/UCLA S25/CS 162/Final Project/CS162FinalProject/venv/lib/python3.9/site-packages/torch/utils/data/dataloader.py:665: UserWarning: 'pin_memory' argument is set as true but no accelerator is found, then device pinned memory won't be used.\n",
      "  warnings.warn(warn_msg)\n",
      "/Users/theo/Documents/UCLA S25/CS 162/Final Project/CS162FinalProject/venv/lib/python3.9/site-packages/torch/utils/data/dataloader.py:665: UserWarning: 'pin_memory' argument is set as true but no accelerator is found, then device pinned memory won't be used.\n",
      "  warnings.warn(warn_msg)\n",
      "/Users/theo/Documents/UCLA S25/CS 162/Final Project/CS162FinalProject/venv/lib/python3.9/site-packages/torch/utils/data/dataloader.py:665: UserWarning: 'pin_memory' argument is set as true but no accelerator is found, then device pinned memory won't be used.\n",
      "  warnings.warn(warn_msg)\n"
     ]
    },
    {
     "data": {
      "text/plain": [
       "TrainOutput(global_step=2000, training_loss=0.4661511253118515, metrics={'train_runtime': 34318.1128, 'train_samples_per_second': 0.466, 'train_steps_per_second': 0.058, 'total_flos': 2165468823552000.0, 'train_loss': 0.4661511253118515, 'epoch': 2.0})"
      ]
     },
     "execution_count": 40,
     "metadata": {},
     "output_type": "execute_result"
    }
   ],
   "source": [
    "trainer.train()"
   ]
  },
  {
   "cell_type": "code",
   "execution_count": 41,
   "id": "81b55ebb",
   "metadata": {},
   "outputs": [
    {
     "name": "stderr",
     "output_type": "stream",
     "text": [
      "/Users/theo/Documents/UCLA S25/CS 162/Final Project/CS162FinalProject/venv/lib/python3.9/site-packages/torch/utils/data/dataloader.py:665: UserWarning: 'pin_memory' argument is set as true but no accelerator is found, then device pinned memory won't be used.\n",
      "  warnings.warn(warn_msg)\n"
     ]
    },
    {
     "data": {
      "text/html": [
       "\n",
       "    <div>\n",
       "      \n",
       "      <progress value='2778' max='2778' style='width:300px; height:20px; vertical-align: middle;'></progress>\n",
       "      [2778/2778 3:51:33]\n",
       "    </div>\n",
       "    "
      ],
      "text/plain": [
       "<IPython.core.display.HTML object>"
      ]
     },
     "metadata": {},
     "output_type": "display_data"
    },
    {
     "data": {
      "text/plain": [
       "{'eval_loss': 0.05415298044681549,\n",
       " 'eval_accuracy': 0.32596759675967596,\n",
       " 'eval_f1': 0.3204059006445758,\n",
       " 'eval_precision': 0.43541117908849886,\n",
       " 'eval_recall': 0.32596759675967596,\n",
       " 'eval_runtime': 14056.4768,\n",
       " 'eval_samples_per_second': 1.581,\n",
       " 'eval_steps_per_second': 0.198,\n",
       " 'epoch': 2.0}"
      ]
     },
     "execution_count": 41,
     "metadata": {},
     "output_type": "execute_result"
    }
   ],
   "source": [
    "trainer.evaluate()"
   ]
  }
 ],
 "metadata": {
  "kernelspec": {
   "display_name": "venv",
   "language": "python",
   "name": "python3"
  },
  "language_info": {
   "codemirror_mode": {
    "name": "ipython",
    "version": 3
   },
   "file_extension": ".py",
   "mimetype": "text/x-python",
   "name": "python",
   "nbconvert_exporter": "python",
   "pygments_lexer": "ipython3",
   "version": "3.9.13"
  }
 },
 "nbformat": 4,
 "nbformat_minor": 5
}
