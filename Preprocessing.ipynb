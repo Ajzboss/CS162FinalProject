{
 "cells": [
  {
   "cell_type": "markdown",
   "id": "25f1e75a",
   "metadata": {},
   "source": [
    "## Data Preprocessing"
   ]
  },
  {
   "cell_type": "markdown",
   "id": "e0bf9071",
   "metadata": {},
   "source": [
    "### Import Libraries"
   ]
  },
  {
   "cell_type": "code",
   "execution_count": 1,
   "id": "a6ce98a9",
   "metadata": {},
   "outputs": [],
   "source": [
    "import pandas as pd\n",
    "import string\n",
    "from nltk.corpus import stopwords\n",
    "import nltk"
   ]
  },
  {
   "cell_type": "markdown",
   "id": "c07e8927",
   "metadata": {},
   "source": [
    "### Load data with Pandas"
   ]
  },
  {
   "cell_type": "code",
   "execution_count": 2,
   "id": "81e1221f",
   "metadata": {},
   "outputs": [],
   "source": [
    "# Load the data into a pandas DataFrame\n",
    "df = pd.read_csv(\"Data/raw_ai_vs_human.csv\") #adjust file path to point to raw dataset"
   ]
  },
  {
   "cell_type": "markdown",
   "id": "2eb15eb0",
   "metadata": {},
   "source": [
    "### Remove any newline characters in the text"
   ]
  },
  {
   "cell_type": "code",
   "execution_count": 3,
   "id": "3fb26a8b",
   "metadata": {},
   "outputs": [
    {
     "name": "stdout",
     "output_type": "stream",
     "text": [
      "                                                text  generated\n",
      "0  Cars. Cars have been around since they became ...        0.0\n",
      "1  Transportation is a large necessity in most co...        0.0\n",
      "2  \"America's love affair with it's vehicles seem...        0.0\n",
      "3  How often do you ride in a car? Do you drive a...        0.0\n",
      "4  Cars are a wonderful thing. They are perhaps o...        0.0\n"
     ]
    }
   ],
   "source": [
    "# Remove newlines \n",
    "df['text'] = df['text'].str.replace('\\n', ' ', regex=True)\n",
    "print(df.head())"
   ]
  },
  {
   "cell_type": "markdown",
   "id": "9c7ff292",
   "metadata": {},
   "source": [
    "### Remove any punctuation"
   ]
  },
  {
   "cell_type": "code",
   "execution_count": 4,
   "id": "6fd0d70f",
   "metadata": {},
   "outputs": [],
   "source": [
    "# Remove punctuation \n",
    "df['text'] = df['text'].str.translate(str.maketrans('', '', string.punctuation))"
   ]
  },
  {
   "cell_type": "markdown",
   "id": "605fc8e3",
   "metadata": {},
   "source": [
    "### Remove stopwords (common words that will not inform our analysis)"
   ]
  },
  {
   "cell_type": "code",
   "execution_count": 5,
   "id": "19ceee4d",
   "metadata": {},
   "outputs": [
    {
     "name": "stderr",
     "output_type": "stream",
     "text": [
      "[nltk_data] Downloading package stopwords to\n",
      "[nltk_data]     /Users/Zeeshan/nltk_data...\n",
      "[nltk_data]   Package stopwords is already up-to-date!\n"
     ]
    }
   ],
   "source": [
    "nltk.download('stopwords')\n",
    "stop_words = set(stopwords.words('english'))\n",
    "\n",
    "# Remove stopwords\n",
    "df['text'] = df['text'].apply(lambda x: ' '.join([word for word in x.split() if word.lower() not in stop_words]))"
   ]
  },
  {
   "cell_type": "markdown",
   "id": "eb97cd40",
   "metadata": {},
   "source": [
    "### Convert Labels to binary integers (1 or 0)"
   ]
  },
  {
   "cell_type": "code",
   "execution_count": 6,
   "id": "6485df5f",
   "metadata": {},
   "outputs": [],
   "source": [
    "df['generated'] = df['generated'].astype(int)"
   ]
  },
  {
   "cell_type": "markdown",
   "id": "319520d5",
   "metadata": {},
   "source": [
    "### Write results"
   ]
  },
  {
   "cell_type": "code",
   "execution_count": 7,
   "id": "341e7102",
   "metadata": {},
   "outputs": [],
   "source": [
    "df.to_csv(\"Data/processed_ai_vs_human.csv\", index=False)"
   ]
  }
 ],
 "metadata": {
  "kernelspec": {
   "display_name": "base",
   "language": "python",
   "name": "python3"
  },
  "language_info": {
   "codemirror_mode": {
    "name": "ipython",
    "version": 3
   },
   "file_extension": ".py",
   "mimetype": "text/x-python",
   "name": "python",
   "nbconvert_exporter": "python",
   "pygments_lexer": "ipython3",
   "version": "3.10.9"
  }
 },
 "nbformat": 4,
 "nbformat_minor": 5
}
