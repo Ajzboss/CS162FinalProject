{
 "cells": [
  {
   "cell_type": "markdown",
   "id": "ab0711a5",
   "metadata": {},
   "source": [
    "## Install Dependencies"
   ]
  },
  {
   "cell_type": "code",
   "execution_count": null,
   "id": "BITmGeMqxqsW",
   "metadata": {
    "colab": {
     "base_uri": "https://localhost:8080/"
    },
    "executionInfo": {
     "elapsed": 104700,
     "status": "ok",
     "timestamp": 1748837442022,
     "user": {
      "displayName": "Masooma Hasan",
      "userId": "16766694688961450722"
     },
     "user_tz": 420
    },
    "id": "BITmGeMqxqsW",
    "outputId": "35a3fc98-e300-44c5-f874-16008032d1cc"
   },
   "outputs": [],
   "source": [
    "!pip install -U fastai pandas"
   ]
  },
  {
   "cell_type": "code",
   "execution_count": null,
   "id": "ky0J0ngBz26z",
   "metadata": {
    "colab": {
     "base_uri": "https://localhost:8080/"
    },
    "id": "ky0J0ngBz26z",
    "outputId": "6d10e61e-4c28-406f-a861-2e559eeda63d"
   },
   "outputs": [],
   "source": [
    "!pip install numpy==1.24.4 --force-reinstall\n",
    "import os\n",
    "os.kill(os.getpid(), 9)  # Force-restart runtime (required after reinstall)"
   ]
  },
  {
   "cell_type": "code",
   "execution_count": null,
   "id": "wHb5G_1xx-mY",
   "metadata": {
    "colab": {
     "base_uri": "https://localhost:8080/"
    },
    "executionInfo": {
     "elapsed": 18812,
     "status": "ok",
     "timestamp": 1748837502982,
     "user": {
      "displayName": "Masooma Hasan",
      "userId": "16766694688961450722"
     },
     "user_tz": 420
    },
    "id": "wHb5G_1xx-mY",
    "outputId": "5e41030b-a618-4b7d-b759-c67a5ba3f511"
   },
   "outputs": [
    {
     "name": "stdout",
     "output_type": "stream",
     "text": [
      "Mounted at /content/drive\n"
     ]
    }
   ],
   "source": [
    "from google.colab import drive\n",
    "drive.mount('/content/drive')"
   ]
  },
  {
   "cell_type": "markdown",
   "id": "b0229bc6",
   "metadata": {},
   "source": [
    "## Set up Learner"
   ]
  },
  {
   "cell_type": "code",
   "execution_count": 10,
   "id": "5a46b215",
   "metadata": {},
   "outputs": [],
   "source": [
    "from pathlib import Path\n",
    "model_dir = Path('Models')\n",
    "#model_dir.mkdir(parents=True, exist_ok=True)"
   ]
  },
  {
   "cell_type": "code",
   "execution_count": 1,
   "id": "0a2d7a29",
   "metadata": {},
   "outputs": [],
   "source": [
    "import ssl\n",
    "import urllib.request\n",
    "\n",
    "ssl._create_default_https_context = ssl._create_unverified_context\n"
   ]
  },
  {
   "cell_type": "code",
   "execution_count": 2,
   "id": "821d0aaa",
   "metadata": {
    "colab": {
     "base_uri": "https://localhost:8080/",
     "height": 289
    },
    "id": "821d0aaa",
    "outputId": "fe6527ff-1dd5-42f9-815a-f9e29357baa9"
   },
   "outputs": [
    {
     "name": "stdout",
     "output_type": "stream",
     "text": [
      "                                                                                                                                                                                                                                                                                                                                                                                                                                                                                                                                                                                                                      text  \\\n",
      "0  Cars Cars around since became famous 1900s Henry Ford created built first ModelT Cars played major role every day lives since people starting question limiting car usage would good thing limiting use cars might good thing like matter article German Suburb Life Goes Without Cars Elizabeth Rosenthal states automobiles linchpin suburbs middle class families either Shanghai Chicago tend make homes Experts say huge impediment current efforts reduce greenhouse gas emissions tailpipe Passenger cars responsible 12 percent greenhouse gas emissions Europeand 50 percent carintensive areas United Stat...   \n",
      "1  Transportation large necessity countries worldwide doubt cars buses means transportation make going place place easier faster However theres always negative pollution Although mobile transportation huge part daily lives endangering Earth harmful greenhouse gases could suppressed small suburb community Germany called Vauban started carfree lifestyle city markets stores placed nearby homes instead located farend highways Although Vauban completely carfree 70 Vauban families cars Even large 57 families stated sold cars move Vauban families even said less stressed depending car transportation ...   \n",
      "2  Americas love affair vehicles seems cooling says Elisabeth rosenthal understand rosenthals perspective easier suggest Americas car usage decreasing slowly isnt necessarily bad sense certain positive effects advantages limiting car usage includes increase security health along decrease pollution dependence Firstly car usage limited security health likely guaranteed feeling secure highly important individuals everywhere example many people colombia used public transportation car free day leaving streets capital city according Andrew Selsky eerily devoid traffic jams complications stem traffi...   \n",
      "3  often ride car drive one motor vehicle work store mall ever thought many people world exact thing travel every destination using fuel powered motorvehicle many people realize intensive damage theyre turn key ignition didnt drive work today youre like regular car user thought could never survive without car may run mind possible though live without main mean transport look cities like cuban Paris Bogota one way restricted peoples usage cars actually enjoy limit car usage intern result many advantages benefits community recognized benefit giving car usage would positive consequences health s...   \n",
      "4  Cars wonderful thing perhaps one worlds greatest advancements technologies Cars get us point point exactly want isnt humans want get one place anther fast possiile Cars suitaile get us across city matter minutes Much faster anyhting else train isnt going get across city fast car neither puilic ius iut forms transportation might ie way go Dont get wrong cars aisolutly amazing thing iut mayie cause way much stress mayie hurt environment ways dont think ius train worry aiout washing car getting frustrated stuck iad traffic jam I4 Also much pollution air hurting environment might think iut man...   \n",
      "\n",
      "   generated  \n",
      "0          0  \n",
      "1          0  \n",
      "2          0  \n",
      "3          0  \n",
      "4          0  \n"
     ]
    },
    {
     "data": {
      "text/html": [
       "\n",
       "<style>\n",
       "    /* Turns off some styling */\n",
       "    progress {\n",
       "        /* gets rid of default border in Firefox and Opera. */\n",
       "        border: none;\n",
       "        /* Needs to be in here for Safari polyfill so background images work as expected. */\n",
       "        background-size: auto;\n",
       "    }\n",
       "    progress:not([value]), progress:not([value])::-webkit-progress-bar {\n",
       "        background: repeating-linear-gradient(45deg, #7e7e7e, #7e7e7e 10px, #5c5c5c 10px, #5c5c5c 20px);\n",
       "    }\n",
       "    .progress-bar-interrupted, .progress-bar-interrupted::-webkit-progress-bar {\n",
       "        background: #F44336;\n",
       "    }\n",
       "</style>\n"
      ],
      "text/plain": [
       "<IPython.core.display.HTML object>"
      ]
     },
     "metadata": {},
     "output_type": "display_data"
    },
    {
     "data": {
      "text/html": [],
      "text/plain": [
       "<IPython.core.display.HTML object>"
      ]
     },
     "metadata": {},
     "output_type": "display_data"
    }
   ],
   "source": [
    "from fastai.text.all import *\n",
    "\n",
    "# Load dataset\n",
    "df = pd.read_csv(\"Data/processed_ai_vs_human.csv\")\n",
    "\n",
    "# Use only first half of the data\n",
    "df = df.iloc[:len(df)//2]\n",
    "\n",
    "# Preview Data\n",
    "print(df.head())\n",
    "df = df.dropna(subset=[\"text\", \"generated\"])  # safeguard, there aren't any missing values\n",
    "\n",
    "# Create DataLoaders object for classification\n",
    "dls = TextDataLoaders.from_df(\n",
    "    df,\n",
    "    text_col='text',\n",
    "    label_col='generated',\n",
    "    is_lm=False,                  # This is for classification, not language modeling\n",
    "    valid_pct=0.15,                # Split for validation\n",
    "    bs=4,                        # Batch size\n",
    "    seq_len=72\n",
    ")"
   ]
  },
  {
   "cell_type": "code",
   "execution_count": 11,
   "id": "4f49c27f",
   "metadata": {},
   "outputs": [],
   "source": [
    "# Create classifier learner\n",
    "learn = text_classifier_learner(\n",
    "    dls,\n",
    "    AWD_LSTM,\n",
    "    drop_mult=0.5,               # Dropout multiplier; helps regularization\n",
    "    metrics=[accuracy, F1Score()]\n",
    ")\n",
    "\n",
    "learn.model_dir = model_dir"
   ]
  },
  {
   "cell_type": "markdown",
   "id": "74b399ef",
   "metadata": {},
   "source": [
    "## Finetune (Done with VM)"
   ]
  },
  {
   "cell_type": "code",
   "execution_count": null,
   "id": "fa13bf9a",
   "metadata": {
    "id": "fa13bf9a"
   },
   "outputs": [],
   "source": [
    "from fastai.callback.tracker import SaveModelCallback\n",
    "\n",
    "# Fine-tune the model\n",
    "learn.fine_tune(1, cbs=[\n",
    "    SaveModelCallback(monitor='accuracy', comp=np.greater, fname='best_model')\n",
    "])\n",
    "\n",
    "# Evaluate\n",
    "learn.show_results()\n",
    "\n",
    "# Save model in working directory\n",
    "learn.export('/content/drive/MyDrive/162/LSTM_text_classifier.pkl')"
   ]
  },
  {
   "cell_type": "code",
   "execution_count": 13,
   "id": "1f8b4558",
   "metadata": {},
   "outputs": [],
   "source": [
    "learn.load('best_model')\n",
    "learn.export('Models/LSTM_text_classifier.pkl')"
   ]
  },
  {
   "cell_type": "markdown",
   "id": "b09d793f",
   "metadata": {
    "id": "b09d793f"
   },
   "source": [
    "## Load Fine-tuned Model"
   ]
  },
  {
   "cell_type": "code",
   "execution_count": null,
   "id": "90a6152d",
   "metadata": {
    "id": "90a6152d"
   },
   "outputs": [
    {
     "name": "stderr",
     "output_type": "stream",
     "text": [
      "/Library/Frameworks/Python.framework/Versions/3.9/lib/python3.9/site-packages/fastai/learner.py:455: UserWarning: load_learner` uses Python's insecure pickle module, which can execute malicious arbitrary code when loading. Only load files you trust.\n",
      "If you only need to load model weights and optimizer state, use the safe `Learner.load` instead.\n",
      "  warn(\"load_learner` uses Python's insecure pickle module, which can execute malicious arbitrary code when loading. Only load files you trust.\\nIf you only need to load model weights and optimizer state, use the safe `Learner.load` instead.\")\n"
     ]
    },
    {
     "data": {
      "text/html": [
       "\n",
       "<style>\n",
       "    /* Turns off some styling */\n",
       "    progress {\n",
       "        /* gets rid of default border in Firefox and Opera. */\n",
       "        border: none;\n",
       "        /* Needs to be in here for Safari polyfill so background images work as expected. */\n",
       "        background-size: auto;\n",
       "    }\n",
       "    progress:not([value]), progress:not([value])::-webkit-progress-bar {\n",
       "        background: repeating-linear-gradient(45deg, #7e7e7e, #7e7e7e 10px, #5c5c5c 10px, #5c5c5c 20px);\n",
       "    }\n",
       "    .progress-bar-interrupted, .progress-bar-interrupted::-webkit-progress-bar {\n",
       "        background: #F44336;\n",
       "    }\n",
       "</style>\n"
      ],
      "text/plain": [
       "<IPython.core.display.HTML object>"
      ]
     },
     "metadata": {},
     "output_type": "display_data"
    },
    {
     "data": {
      "text/html": [],
      "text/plain": [
       "<IPython.core.display.HTML object>"
      ]
     },
     "metadata": {},
     "output_type": "display_data"
    },
    {
     "name": "stdout",
     "output_type": "stream",
     "text": [
      "Predicted class: 1 (AI: 1, Human: 0)\n",
      "Probability distribution: tensor([0.0223, 0.9777])\n"
     ]
    }
   ],
   "source": [
    "# Load the model\n",
    "learn = load_learner('Models/LSTM_text_classifier.pkl')\n",
    "\n",
    "# Use it to make predictions\n",
    "text = df[]\n",
    "pred_class, pred_idx, probs = learn.predict(text)\n",
    "\n",
    "print(f\"Predicted class: {pred_class} (AI: 1, Human: 0)\")\n",
    "print(f\"Probability distribution: {probs}\")"
   ]
  },
  {
   "cell_type": "markdown",
   "id": "e734cf35",
   "metadata": {},
   "source": [
    "## Testing"
   ]
  },
  {
   "cell_type": "markdown",
   "id": "32a56806",
   "metadata": {},
   "source": [
    "Get Data"
   ]
  },
  {
   "cell_type": "code",
   "execution_count": null,
   "id": "369b7e50",
   "metadata": {},
   "outputs": [],
   "source": [
    "import json\n",
    "\n",
    "def get_dev_data(file):\n",
    "    entries = []\n",
    "    with open(file, 'r') as f:\n",
    "        for line in f:\n",
    "            try:\n",
    "                data = json.loads(line)\n",
    "                entries.append({\"text\": data['human_text'], \"label\": 0})\n",
    "                entries.append({\"text\": data['machine_text'], \"label\": 1})\n",
    "            except Exception as e:\n",
    "                print(f\"Skipping malformed line: {e}\")\n",
    "\n",
    "    df = pd.DataFrame(entries)\n",
    "    return df\n",
    "\n",
    "arvix_GPT = get_dev_data('Data/arxiv_chatGPT.jsonl')\n",
    "arvix_cohere = get_dev_data('Data/arxiv_cohere.jsonl')\n",
    "reddit_GPT = get_dev_data('Data/reddit_chatGPT.jsonl')\n",
    "reddit_cohere = get_dev_data('Data/reddit_cohere.jsonl')"
   ]
  },
  {
   "cell_type": "code",
   "execution_count": 119,
   "id": "a9fc39a5",
   "metadata": {},
   "outputs": [],
   "source": [
    "our_data = pd.read_csv(\"Data/processed_ai_vs_human.csv\")\n",
    "our_data = our_data.iloc[len(our_data)//2:]\n",
    "original_data_sample = our_data.sample(n=1000, random_state=42).reset_index(drop=True)\n",
    "original_data_sample['label'] = original_data_sample['generated']"
   ]
  },
  {
   "cell_type": "markdown",
   "id": "3d62ec52",
   "metadata": {},
   "source": [
    "Get Predictions from Each Dev Set"
   ]
  },
  {
   "cell_type": "code",
   "execution_count": 106,
   "id": "c1ca1f9e",
   "metadata": {},
   "outputs": [
    {
     "data": {
      "text/html": [
       "\n",
       "<style>\n",
       "    /* Turns off some styling */\n",
       "    progress {\n",
       "        /* gets rid of default border in Firefox and Opera. */\n",
       "        border: none;\n",
       "        /* Needs to be in here for Safari polyfill so background images work as expected. */\n",
       "        background-size: auto;\n",
       "    }\n",
       "    progress:not([value]), progress:not([value])::-webkit-progress-bar {\n",
       "        background: repeating-linear-gradient(45deg, #7e7e7e, #7e7e7e 10px, #5c5c5c 10px, #5c5c5c 20px);\n",
       "    }\n",
       "    .progress-bar-interrupted, .progress-bar-interrupted::-webkit-progress-bar {\n",
       "        background: #F44336;\n",
       "    }\n",
       "</style>\n"
      ],
      "text/plain": [
       "<IPython.core.display.HTML object>"
      ]
     },
     "metadata": {},
     "output_type": "display_data"
    },
    {
     "data": {
      "text/html": [],
      "text/plain": [
       "<IPython.core.display.HTML object>"
      ]
     },
     "metadata": {},
     "output_type": "display_data"
    }
   ],
   "source": [
    "# DataLoader from dev DataFrame\n",
    "test_dl = dls.test_dl(arvix_GPT[\"text\"].tolist(), bs=64)\n",
    "\n",
    "# Get predictions in batch\n",
    "arvix_GPT_predictions = learn.get_preds(dl=test_dl)\n"
   ]
  },
  {
   "cell_type": "code",
   "execution_count": 122,
   "id": "6933f016",
   "metadata": {},
   "outputs": [
    {
     "data": {
      "text/html": [
       "\n",
       "<style>\n",
       "    /* Turns off some styling */\n",
       "    progress {\n",
       "        /* gets rid of default border in Firefox and Opera. */\n",
       "        border: none;\n",
       "        /* Needs to be in here for Safari polyfill so background images work as expected. */\n",
       "        background-size: auto;\n",
       "    }\n",
       "    progress:not([value]), progress:not([value])::-webkit-progress-bar {\n",
       "        background: repeating-linear-gradient(45deg, #7e7e7e, #7e7e7e 10px, #5c5c5c 10px, #5c5c5c 20px);\n",
       "    }\n",
       "    .progress-bar-interrupted, .progress-bar-interrupted::-webkit-progress-bar {\n",
       "        background: #F44336;\n",
       "    }\n",
       "</style>\n"
      ],
      "text/plain": [
       "<IPython.core.display.HTML object>"
      ]
     },
     "metadata": {},
     "output_type": "display_data"
    },
    {
     "data": {
      "text/html": [],
      "text/plain": [
       "<IPython.core.display.HTML object>"
      ]
     },
     "metadata": {},
     "output_type": "display_data"
    }
   ],
   "source": [
    "# DataLoader from dev DataFrame\n",
    "test_dl = dls.test_dl(arvix_cohere[\"text\"].tolist(), bs=64)\n",
    "\n",
    "# Get predictions in batch\n",
    "arvix_cohere_predictions = learn.get_preds(dl=test_dl)"
   ]
  },
  {
   "cell_type": "code",
   "execution_count": 130,
   "id": "41bb8db3",
   "metadata": {},
   "outputs": [
    {
     "data": {
      "text/html": [
       "\n",
       "<style>\n",
       "    /* Turns off some styling */\n",
       "    progress {\n",
       "        /* gets rid of default border in Firefox and Opera. */\n",
       "        border: none;\n",
       "        /* Needs to be in here for Safari polyfill so background images work as expected. */\n",
       "        background-size: auto;\n",
       "    }\n",
       "    progress:not([value]), progress:not([value])::-webkit-progress-bar {\n",
       "        background: repeating-linear-gradient(45deg, #7e7e7e, #7e7e7e 10px, #5c5c5c 10px, #5c5c5c 20px);\n",
       "    }\n",
       "    .progress-bar-interrupted, .progress-bar-interrupted::-webkit-progress-bar {\n",
       "        background: #F44336;\n",
       "    }\n",
       "</style>\n"
      ],
      "text/plain": [
       "<IPython.core.display.HTML object>"
      ]
     },
     "metadata": {},
     "output_type": "display_data"
    },
    {
     "data": {
      "text/html": [],
      "text/plain": [
       "<IPython.core.display.HTML object>"
      ]
     },
     "metadata": {},
     "output_type": "display_data"
    }
   ],
   "source": [
    "# DataLoader from dev DataFrame\n",
    "test_dl = dls.test_dl(reddit_GPT[\"text\"].tolist(), bs=64)\n",
    "\n",
    "# Get predictions in batch\n",
    "reddit_GPT_predictions = learn.get_preds(dl=test_dl)"
   ]
  },
  {
   "cell_type": "code",
   "execution_count": 131,
   "id": "f73965c0",
   "metadata": {},
   "outputs": [
    {
     "data": {
      "text/html": [
       "\n",
       "<style>\n",
       "    /* Turns off some styling */\n",
       "    progress {\n",
       "        /* gets rid of default border in Firefox and Opera. */\n",
       "        border: none;\n",
       "        /* Needs to be in here for Safari polyfill so background images work as expected. */\n",
       "        background-size: auto;\n",
       "    }\n",
       "    progress:not([value]), progress:not([value])::-webkit-progress-bar {\n",
       "        background: repeating-linear-gradient(45deg, #7e7e7e, #7e7e7e 10px, #5c5c5c 10px, #5c5c5c 20px);\n",
       "    }\n",
       "    .progress-bar-interrupted, .progress-bar-interrupted::-webkit-progress-bar {\n",
       "        background: #F44336;\n",
       "    }\n",
       "</style>\n"
      ],
      "text/plain": [
       "<IPython.core.display.HTML object>"
      ]
     },
     "metadata": {},
     "output_type": "display_data"
    },
    {
     "data": {
      "text/html": [],
      "text/plain": [
       "<IPython.core.display.HTML object>"
      ]
     },
     "metadata": {},
     "output_type": "display_data"
    }
   ],
   "source": [
    "# DataLoader from dev DataFrame\n",
    "test_dl = dls.test_dl(reddit_cohere[\"text\"].tolist(), bs=64)\n",
    "\n",
    "# Get predictions in batch\n",
    "reddit_cohere_predictions = learn.get_preds(dl=test_dl)"
   ]
  },
  {
   "cell_type": "code",
   "execution_count": null,
   "id": "751f27a7",
   "metadata": {},
   "outputs": [
    {
     "data": {
      "text/html": [
       "\n",
       "<style>\n",
       "    /* Turns off some styling */\n",
       "    progress {\n",
       "        /* gets rid of default border in Firefox and Opera. */\n",
       "        border: none;\n",
       "        /* Needs to be in here for Safari polyfill so background images work as expected. */\n",
       "        background-size: auto;\n",
       "    }\n",
       "    progress:not([value]), progress:not([value])::-webkit-progress-bar {\n",
       "        background: repeating-linear-gradient(45deg, #7e7e7e, #7e7e7e 10px, #5c5c5c 10px, #5c5c5c 20px);\n",
       "    }\n",
       "    .progress-bar-interrupted, .progress-bar-interrupted::-webkit-progress-bar {\n",
       "        background: #F44336;\n",
       "    }\n",
       "</style>\n"
      ],
      "text/plain": [
       "<IPython.core.display.HTML object>"
      ]
     },
     "metadata": {},
     "output_type": "display_data"
    },
    {
     "data": {
      "text/html": [],
      "text/plain": [
       "<IPython.core.display.HTML object>"
      ]
     },
     "metadata": {},
     "output_type": "display_data"
    }
   ],
   "source": [
    "# DataLoader from dev DataFrame\n",
    "test_dl = dls.test_dl(our_data_sample[\"text\"].tolist(), bs=64)\n",
    "\n",
    "# Get predictions in batch\n",
    "original_predictions = learn.get_preds(dl=test_dl)"
   ]
  },
  {
   "cell_type": "markdown",
   "id": "d583078f",
   "metadata": {},
   "source": [
    "Measure Accuracy of Predictions"
   ]
  },
  {
   "cell_type": "code",
   "execution_count": 108,
   "id": "bf2f223c",
   "metadata": {},
   "outputs": [],
   "source": [
    "from sklearn.metrics import accuracy_score, classification_report\n",
    "def generate_metrics(truth, dev_preds, threshold):\n",
    "    ai_probs_dev = dev_preds[0][:,1]\n",
    "    custom_threshold = threshold\n",
    "\n",
    "    pred_labels = (ai_probs_dev >= custom_threshold).int().numpy()\n",
    "\n",
    "    # Evaluate\n",
    "    acc = accuracy_score(truth['label'], pred_labels)\n",
    "    report = classification_report(truth['label'], pred_labels, target_names=['Human', 'AI'])\n",
    "\n",
    "    print(f\"Accuracy: {acc:.4f}\")\n",
    "    print(report)"
   ]
  },
  {
   "cell_type": "code",
   "execution_count": 117,
   "id": "f0e290cb",
   "metadata": {},
   "outputs": [
    {
     "name": "stdout",
     "output_type": "stream",
     "text": [
      "Accuracy: 0.7065\n",
      "              precision    recall  f1-score   support\n",
      "\n",
      "       Human       0.79      0.56      0.66      3000\n",
      "          AI       0.66      0.85      0.74      3000\n",
      "\n",
      "    accuracy                           0.71      6000\n",
      "   macro avg       0.72      0.71      0.70      6000\n",
      "weighted avg       0.72      0.71      0.70      6000\n",
      "\n"
     ]
    }
   ],
   "source": [
    "generate_metrics(arvix_GPT, arvix_GPT_predictions, 0.95)"
   ]
  },
  {
   "cell_type": "code",
   "execution_count": 129,
   "id": "93600eb0",
   "metadata": {},
   "outputs": [
    {
     "name": "stdout",
     "output_type": "stream",
     "text": [
      "Accuracy: 0.5412\n",
      "              precision    recall  f1-score   support\n",
      "\n",
      "       Human       0.54      0.56      0.55      3000\n",
      "          AI       0.54      0.52      0.53      3000\n",
      "\n",
      "    accuracy                           0.54      6000\n",
      "   macro avg       0.54      0.54      0.54      6000\n",
      "weighted avg       0.54      0.54      0.54      6000\n",
      "\n"
     ]
    }
   ],
   "source": [
    "generate_metrics(arvix_cohere, arvix_cohere_predictions, 0.95)"
   ]
  },
  {
   "cell_type": "code",
   "execution_count": 137,
   "id": "6f39efe1",
   "metadata": {},
   "outputs": [
    {
     "name": "stdout",
     "output_type": "stream",
     "text": [
      "Accuracy: 0.6818\n",
      "              precision    recall  f1-score   support\n",
      "\n",
      "       Human       0.69      0.67      0.68      3000\n",
      "          AI       0.68      0.69      0.68      3000\n",
      "\n",
      "    accuracy                           0.68      6000\n",
      "   macro avg       0.68      0.68      0.68      6000\n",
      "weighted avg       0.68      0.68      0.68      6000\n",
      "\n"
     ]
    }
   ],
   "source": [
    "generate_metrics(reddit_GPT, reddit_GPT_predictions, 0.80)"
   ]
  },
  {
   "cell_type": "code",
   "execution_count": 146,
   "id": "47847d32",
   "metadata": {},
   "outputs": [
    {
     "name": "stdout",
     "output_type": "stream",
     "text": [
      "Accuracy: 0.8138\n",
      "              precision    recall  f1-score   support\n",
      "\n",
      "       Human       0.75      0.93      0.83      3000\n",
      "          AI       0.91      0.69      0.79      3000\n",
      "\n",
      "    accuracy                           0.81      6000\n",
      "   macro avg       0.83      0.81      0.81      6000\n",
      "weighted avg       0.83      0.81      0.81      6000\n",
      "\n"
     ]
    }
   ],
   "source": [
    "generate_metrics(reddit_cohere, reddit_cohere_predictions, 0.95)"
   ]
  },
  {
   "cell_type": "code",
   "execution_count": 121,
   "id": "1f778d3b",
   "metadata": {},
   "outputs": [
    {
     "name": "stdout",
     "output_type": "stream",
     "text": [
      "Accuracy: 0.9520\n",
      "              precision    recall  f1-score   support\n",
      "\n",
      "       Human       0.96      0.97      0.96       670\n",
      "          AI       0.94      0.91      0.93       330\n",
      "\n",
      "    accuracy                           0.95      1000\n",
      "   macro avg       0.95      0.94      0.95      1000\n",
      "weighted avg       0.95      0.95      0.95      1000\n",
      "\n"
     ]
    }
   ],
   "source": [
    "generate_metrics(original_data_sample, original_predictions, 0.5)"
   ]
  }
 ],
 "metadata": {
  "accelerator": "GPU",
  "colab": {
   "gpuType": "T4",
   "provenance": []
  },
  "kernelspec": {
   "display_name": "Python 3",
   "name": "python3"
  },
  "language_info": {
   "codemirror_mode": {
    "name": "ipython",
    "version": 3
   },
   "file_extension": ".py",
   "mimetype": "text/x-python",
   "name": "python",
   "nbconvert_exporter": "python",
   "pygments_lexer": "ipython3",
   "version": "3.9.7"
  }
 },
 "nbformat": 4,
 "nbformat_minor": 5
}
